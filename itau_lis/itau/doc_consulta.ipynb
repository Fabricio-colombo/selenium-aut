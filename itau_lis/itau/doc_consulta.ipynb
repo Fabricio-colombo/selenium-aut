{
 "cells": [
  {
   "cell_type": "code",
   "execution_count": 27,
   "metadata": {},
   "outputs": [],
   "source": []
  },
  {
   "cell_type": "code",
   "execution_count": 28,
   "metadata": {},
   "outputs": [],
   "source": [
    "#OPCIONAL: facilita a configuração e inicialização do ChromeDriver, tornando o processo mais automatizado e menos propenso a erros relacionados à versão do driver.\n",
    "# from selenium import webdriver\n",
    "# from selenium.webdriver.chrome.service import Service\n",
    "# from webdriver_manager.chrome import ChromeDriverManager\n",
    "\n",
    "# servico = Service(ChromeDriverManager().install())\n",
    "# navegador = webdriver.Chrome(service=servico)\n",
    "\n",
    "from selenium import webdriver\n",
    "from selenium.webdriver.common.keys import Keys\n",
    "from selenium.webdriver.common.by import By\n",
    "from selenium.webdriver.support.ui import WebDriverWait\n",
    "from selenium.webdriver.support import expected_conditions as EC\n"
   ]
  },
  {
   "cell_type": "code",
   "execution_count": null,
   "metadata": {},
   "outputs": [],
   "source": [
    "'''\n",
    "CODIGO PARA RESOLVER SHADOW-ROOT\n",
    "\n",
    "\n",
    "# Espera explícita para o primeiro Shadow Host\n",
    "shadow_host1 = WebDriverWait(driver, 10).until(\n",
    "    EC.presence_of_element_located((By.CSS_SELECTOR, 'body > canal360i-root > canal360i-page-build > div > main > div > div > canal360i-controlador-pagina > div > div > div > canal360i-wrapper-mfe-strategy > canal360i-wrapper-mfe > div.container.ng-star-inserted > mf-corbans-chassi'))\n",
    ")\n",
    "shadow_root1 = driver.execute_script('return arguments[0].shadowRoot', shadow_host1)\n",
    "\n",
    "# Espera explícita para o segundo Shadow Host\n",
    "shadow_host2 = WebDriverWait(shadow_root1, 10).until(\n",
    "    EC.presence_of_element_located((By.CSS_SELECTOR, '#home > div > microfrontend-corbans-chassi-base-pagina-padrao > section > div > microfrontend-corbans-chassi-inss > mf-corban-inss'))\n",
    ")\n",
    "shadow_root2 = driver.execute_script('return arguments[0].shadowRoot', shadow_host2)\n",
    "\n",
    "# Espera explícita para o elemento dentro do segundo Shadow Root\n",
    "elemento_cpf = WebDriverWait(shadow_root2, 10).until(\n",
    "    EC.presence_of_element_located((By.CSS_SELECTOR, '#voxel-input-0'))\n",
    ")\n",
    "elemento_cpf.send_keys('08507623913')\n",
    "\n",
    "# Espera explícita para o elemento dentro do segundo Shadow Root para o campo de matrícula\n",
    "elemento_matricula = WebDriverWait(shadow_root2, 10).until(\n",
    "    EC.presence_of_element_located((By.CSS_SELECTOR, '#voxel-input-1'))\n",
    ")\n",
    "elemento_matricula.send_keys('4564345676')\n",
    "\n",
    "# Espera explícita para o elemento do checkbox\n",
    "elemento_checkbox = WebDriverWait(shadow_root2, 10).until(\n",
    "    EC.presence_of_element_located((By.CSS_SELECTOR, '#voxel-checkbox-1'))\n",
    ")\n",
    "elemento_checkbox.click()\n",
    "\n",
    "\n",
    "'''"
   ]
  },
  {
   "cell_type": "code",
   "execution_count": null,
   "metadata": {},
   "outputs": [],
   "source": [
    "# print(texto_mensagem)\n",
    "\n",
    "# #Imprimir o CPF\n",
    "# print(f\"CPF: {cpf}\")\n",
    "\n",
    "# # Imprimir a Matrícula\n",
    "# print(f\"Matrícula: {matricula}\")\n",
    "\n",
    "# # Imprimir o valor da parcela\n",
    "# print(f\"Valor da parcela: {valor_parcela}\")\n",
    "\n",
    "# # Imprimir o número de Parcelas Pagas\n",
    "# print(f\"Parcelas Pagas: {parcelas_pagas}\")\n",
    "\n",
    "# # Imprimir a Taxa Origem\n",
    "# print(f\"Taxa Origem: {taxa_origem}\")\n",
    "\n",
    "# # Imprimir o Saldo Devedor\n",
    "# print(f\"Saldo Devedor: {saldo_devedor}\")"
   ]
  }
 ],
 "metadata": {
  "kernelspec": {
   "display_name": "venv",
   "language": "python",
   "name": "python3"
  },
  "language_info": {
   "codemirror_mode": {
    "name": "ipython",
    "version": 3
   },
   "file_extension": ".py",
   "mimetype": "text/x-python",
   "name": "python",
   "nbconvert_exporter": "python",
   "pygments_lexer": "ipython3",
   "version": "3.12.1"
  }
 },
 "nbformat": 4,
 "nbformat_minor": 2
}
